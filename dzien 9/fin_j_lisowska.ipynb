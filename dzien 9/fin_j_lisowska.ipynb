{
 "cells": [
  {
   "cell_type": "markdown",
   "metadata": {},
   "source": [
    "\n",
    "##  Zapisz notebook w formacie imie_nazwisko_fin.ipynb"
   ]
  },
  {
   "cell_type": "markdown",
   "metadata": {},
   "source": [
    "## Zliczanie dużych liter\n",
    "\n",
    "Napisz funkcję `capital_index`, która przyjmie napis i zwróci listę indeksów na których występuje duża litera"
   ]
  },
  {
   "cell_type": "code",
   "execution_count": 3,
   "metadata": {
    "ExecuteTime": {
     "end_time": "2020-02-05T15:27:13.998917Z",
     "start_time": "2020-02-05T15:27:13.996184Z"
    }
   },
   "outputs": [],
   "source": [
    "# tu rozwiązanie\n",
    "def capital_indexes(text):\n",
    "    result = []\n",
    "    for i, letter in enumerate(text):\n",
    "        if letter.isupper():\n",
    "            result.append(i)\n",
    "    return result    "
   ]
  },
  {
   "cell_type": "code",
   "execution_count": 4,
   "metadata": {},
   "outputs": [],
   "source": [
    "assert capital_indexes(\"HeLlO\")  == [0, 2, 4]"
   ]
  },
  {
   "cell_type": "markdown",
   "metadata": {},
   "source": [
    "## Zliczanie statusów\n",
    "\n",
    "Napisz funkcję `status_counter`, która przyjmie słownik ze statusami (zobacz test) oraz status i zwróci liczbę osób o zadanym statusie\n"
   ]
  },
  {
   "cell_type": "code",
   "execution_count": 85,
   "metadata": {},
   "outputs": [],
   "source": [
    "def status_counter(statuses, status):\n",
    "    for osoba, stat in statuses.items():\n",
    "        if stat == status:\n",
    "            counter =+ 1\n",
    "    return counter"
   ]
  },
  {
   "cell_type": "code",
   "execution_count": 86,
   "metadata": {
    "ExecuteTime": {
     "end_time": "2020-02-05T15:30:08.011650Z",
     "start_time": "2020-02-05T15:30:07.933434Z"
    }
   },
   "outputs": [
    {
     "ename": "AssertionError",
     "evalue": "",
     "output_type": "error",
     "traceback": [
      "\u001b[1;31m---------------------------------------------------------------------------\u001b[0m",
      "\u001b[1;31mAssertionError\u001b[0m                            Traceback (most recent call last)",
      "\u001b[1;32m<ipython-input-86-35c50e959123>\u001b[0m in \u001b[0;36m<module>\u001b[1;34m\u001b[0m\n\u001b[0;32m      5\u001b[0m }\n\u001b[0;32m      6\u001b[0m \u001b[1;33m\u001b[0m\u001b[0m\n\u001b[1;32m----> 7\u001b[1;33m \u001b[1;32massert\u001b[0m \u001b[0mstatus_counter\u001b[0m\u001b[1;33m(\u001b[0m\u001b[0mstatuses\u001b[0m\u001b[1;33m,\u001b[0m \u001b[1;34m\"online\"\u001b[0m\u001b[1;33m)\u001b[0m \u001b[1;33m==\u001b[0m \u001b[1;36m2\u001b[0m\u001b[1;33m\u001b[0m\u001b[1;33m\u001b[0m\u001b[0m\n\u001b[0m\u001b[0;32m      8\u001b[0m \u001b[1;32massert\u001b[0m \u001b[0mstatus_counter\u001b[0m\u001b[1;33m(\u001b[0m\u001b[0mstatuses\u001b[0m\u001b[1;33m,\u001b[0m \u001b[1;34m\"offline\"\u001b[0m\u001b[1;33m)\u001b[0m \u001b[1;33m==\u001b[0m \u001b[1;36m1\u001b[0m\u001b[1;33m\u001b[0m\u001b[1;33m\u001b[0m\u001b[0m\n",
      "\u001b[1;31mAssertionError\u001b[0m: "
     ]
    }
   ],
   "source": [
    "statuses = {\n",
    "    \"Alice\": \"online\",\n",
    "    \"Bob\": \"offline\",\n",
    "    \"Eve\": \"online\",\n",
    "}\n",
    "\n",
    "assert status_counter(statuses, \"online\") == 2\n",
    "assert status_counter(statuses, \"offline\") == 1"
   ]
  },
  {
   "cell_type": "markdown",
   "metadata": {},
   "source": [
    "## Sprawdzanie typów\n",
    "\n",
    "Napisz funkcję `only_ints`, która przyjmie dwa argumenty i zwróci prawdę jeśli oba są typu `int` w przeciwnym razie zwróci `False`"
   ]
  },
  {
   "cell_type": "code",
   "execution_count": 26,
   "metadata": {},
   "outputs": [],
   "source": [
    "def only_ints(a,b):\n",
    "    return type(a) == int and type(b) == int"
   ]
  },
  {
   "cell_type": "code",
   "execution_count": 27,
   "metadata": {},
   "outputs": [],
   "source": [
    "assert only_ints(1, 2) == True\n",
    "assert only_ints(1, True) == False\n",
    "assert only_ints(\"a\", 1) == False"
   ]
  },
  {
   "cell_type": "markdown",
   "metadata": {},
   "source": [
    "## Wyszukiwanie podwójnych znaków\n",
    "\n",
    "Zdefiniuj funkcję `double_letters` która przyjmie jako argument text. \n",
    "Funkcja zwróci prawdę jeśli w tekście występują obok siebie dwie identyczne litery.\n",
    "W przeciwnym wypadku zwróci False"
   ]
  },
  {
   "cell_type": "code",
   "execution_count": 32,
   "metadata": {},
   "outputs": [],
   "source": [
    "def double_letters(text):\n",
    "    for i in range(len(text)- 1):\n",
    "        if text[i] == text[i + 1]:\n",
    "            return True\n",
    "    return False\n",
    "            "
   ]
  },
  {
   "cell_type": "code",
   "execution_count": 33,
   "metadata": {},
   "outputs": [],
   "source": [
    "assert double_letters(\"ala\") == False\n",
    "assert double_letters(\"Hello\") == True\n",
    "assert double_letters(\"abc\") == False\n",
    "assert double_letters(\"nono\") == False"
   ]
  },
  {
   "cell_type": "markdown",
   "metadata": {},
   "source": [
    "## Anagram\n",
    "\n",
    "Napisz funkcję, która srpawdzi, czy podane dwa teksty są anagramami. Tzn.. czy z liter jednego da się ułożyć drugi"
   ]
  },
  {
   "cell_type": "code",
   "execution_count": 39,
   "metadata": {},
   "outputs": [],
   "source": [
    "def is_anagram (a=str, b=str)-> bool:\n",
    "    return sorted(a.lower()) == sorted(b.lower())"
   ]
  },
  {
   "cell_type": "code",
   "execution_count": 40,
   "metadata": {},
   "outputs": [],
   "source": [
    "assert is_anagram(\"typhoon\", \"opython\") == True \n",
    "assert is_anagram(\"Alice\", \"Bob\") == False\n"
   ]
  },
  {
   "cell_type": "markdown",
   "metadata": {},
   "source": [
    "## Największa różnica\n",
    "\n",
    "Napisz funkcję `largest_difference`, która dla zadanej listy liczby zwróci wartość największej różnicy miedzy jej elementami\n"
   ]
  },
  {
   "cell_type": "code",
   "execution_count": 41,
   "metadata": {},
   "outputs": [],
   "source": [
    "def largest_difference(elements):\n",
    "    return max(elements)- min(elements)"
   ]
  },
  {
   "cell_type": "code",
   "execution_count": 42,
   "metadata": {},
   "outputs": [],
   "source": [
    "assert largest_difference([1, 2, 3]) == 2"
   ]
  },
  {
   "cell_type": "markdown",
   "metadata": {},
   "source": [
    "## Kółko i krzyżyk - pozycja\n",
    "\n",
    "Mamy przykładową planszę:\n",
    "\n",
    "    1:  X | O | X\n",
    "       -----------\n",
    "    2:    |   |  \n",
    "       -----------\n",
    "    3:  O |   |\n",
    "\n",
    "        A   B  C\n",
    "\n",
    "Może być ona reprezentowana w Pythonie jako:\n",
    "\n",
    "    board = [\n",
    "        [\"X\", \"O\", \"X\"],\n",
    "        [\" \", \" \", \" \"],\n",
    "        [\"O\", \" \", \" \"],\n",
    "    ]\n",
    "\n",
    "Napisz funkcję `get_row_col`, która przyjmie napis reprezentujący położenie na planszy\n",
    "i zwróci tuplę odpowiadająca pozycji w `board`\n",
    "\n"
   ]
  },
  {
   "cell_type": "code",
   "execution_count": null,
   "metadata": {},
   "outputs": [],
   "source": [
    "def get_row_col():\n",
    "    board = []\n",
    "    if \"A3\" or \"\"\n",
    "    "
   ]
  },
  {
   "cell_type": "code",
   "execution_count": null,
   "metadata": {
    "ExecuteTime": {
     "end_time": "2020-02-05T15:51:17.662699Z",
     "start_time": "2020-02-05T15:51:17.574871Z"
    }
   },
   "outputs": [],
   "source": [
    "assert get_row_col('A3') == (2, 0)"
   ]
  },
  {
   "cell_type": "markdown",
   "metadata": {},
   "source": [
    "## Person\n",
    "\n",
    "Zdefiniuj klasę Person, którą będzie tworzyć się podając name, last_name, b_year\n",
    "Niech klasa ma atrybut dynamiczny wyliczający wiek danej osoby\n",
    "\n",
    "Zrzutowanie na `str` powinno być w formacie \"J.Nowak (39)\"\n"
   ]
  },
  {
   "cell_type": "code",
   "execution_count": 83,
   "metadata": {},
   "outputs": [
    {
     "name": "stdout",
     "output_type": "stream",
     "text": [
      "<function print_info at 0x00000000055475E8>\n"
     ]
    }
   ],
   "source": [
    "class Person:\n",
    "    def __init__(self, name, l_name, b_year):\n",
    "        self.name = \"Jan\"\n",
    "        self.l_name = \"Nowak\"\n",
    "        self.b_year = 1981\n",
    "year = 2020\n",
    "def wiek():\n",
    "    if b_year > year:\n",
    "        return year - b_year\n",
    "    return wiek\n",
    "\n",
    "def print_info(self):\n",
    "    print(f\"J.{l_name},({wiek})\")\n",
    "\n",
    "print(print_info)\n",
    "\n"
   ]
  },
  {
   "cell_type": "code",
   "execution_count": 84,
   "metadata": {
    "ExecuteTime": {
     "end_time": "2020-02-05T15:54:17.801782Z",
     "start_time": "2020-02-05T15:54:17.684934Z"
    }
   },
   "outputs": [
    {
     "ename": "AssertionError",
     "evalue": "",
     "output_type": "error",
     "traceback": [
      "\u001b[1;31m---------------------------------------------------------------------------\u001b[0m",
      "\u001b[1;31mAssertionError\u001b[0m                            Traceback (most recent call last)",
      "\u001b[1;32m<ipython-input-84-91f6f4ec092d>\u001b[0m in \u001b[0;36m<module>\u001b[1;34m\u001b[0m\n\u001b[0;32m      1\u001b[0m \u001b[0mperson\u001b[0m \u001b[1;33m=\u001b[0m \u001b[0mPerson\u001b[0m\u001b[1;33m(\u001b[0m\u001b[1;34m\"Jan\"\u001b[0m\u001b[1;33m,\u001b[0m \u001b[1;34m\"Nowak\"\u001b[0m\u001b[1;33m,\u001b[0m \u001b[1;36m1981\u001b[0m\u001b[1;33m)\u001b[0m\u001b[1;33m\u001b[0m\u001b[1;33m\u001b[0m\u001b[0m\n\u001b[0;32m      2\u001b[0m \u001b[1;33m\u001b[0m\u001b[0m\n\u001b[1;32m----> 3\u001b[1;33m \u001b[1;32massert\u001b[0m \u001b[0mstr\u001b[0m\u001b[1;33m(\u001b[0m\u001b[0mperson\u001b[0m\u001b[1;33m)\u001b[0m \u001b[1;33m==\u001b[0m \u001b[1;34m\"J.Nowak (39)\"\u001b[0m\u001b[1;33m\u001b[0m\u001b[1;33m\u001b[0m\u001b[0m\n\u001b[0m",
      "\u001b[1;31mAssertionError\u001b[0m: "
     ]
    }
   ],
   "source": [
    "person = Person(\"Jan\", \"Nowak\", 1981)\n",
    "\n",
    "assert str(person) == \"J.Nowak (39)\""
   ]
  },
  {
   "cell_type": "markdown",
   "metadata": {},
   "source": [
    "## Numpy\n",
    "\n",
    "Przy pomocy numpy utwórz tablicę randomowych wartości o długości 100. \n",
    "Zwróć ich średnią"
   ]
  },
  {
   "cell_type": "code",
   "execution_count": null,
   "metadata": {},
   "outputs": [],
   "source": [
    "import numpy\n",
    "random.randit()"
   ]
  }
 ],
 "metadata": {
  "kernelspec": {
   "display_name": "Python 3",
   "language": "python",
   "name": "python3"
  },
  "language_info": {
   "codemirror_mode": {
    "name": "ipython",
    "version": 3
   },
   "file_extension": ".py",
   "mimetype": "text/x-python",
   "name": "python",
   "nbconvert_exporter": "python",
   "pygments_lexer": "ipython3",
   "version": "3.7.4"
  },
  "toc": {
   "base_numbering": 1,
   "nav_menu": {},
   "number_sections": true,
   "sideBar": true,
   "skip_h1_title": false,
   "title_cell": "Table of Contents",
   "title_sidebar": "Contents",
   "toc_cell": false,
   "toc_position": {},
   "toc_section_display": true,
   "toc_window_display": false
  }
 },
 "nbformat": 4,
 "nbformat_minor": 2
}
